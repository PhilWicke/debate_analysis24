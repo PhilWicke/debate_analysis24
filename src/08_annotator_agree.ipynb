{
 "cells": [
  {
   "cell_type": "code",
   "execution_count": 11,
   "metadata": {},
   "outputs": [],
   "source": [
    "# Load data from ../data/annoationsTrump.csv into a numpy array\n",
    "# The data is using tab as delimiter \n",
    "\n",
    "import numpy as np\n",
    "import pandas as pd\n",
    "import krippendorff\n",
    "\n",
    "# Load data from file\n",
    "dataT = pd.read_csv('../data/annotationsTrump.csv', delimiter='\\t')\n",
    "dataH = pd.read_csv('../data/annotationsHarris.csv', delimiter='\\t')\n",
    "\n",
    "# Convert data to numpy array\n",
    "dataT = dataT.to_numpy()\n",
    "dataH = dataH.to_numpy()\n"
   ]
  },
  {
   "cell_type": "code",
   "execution_count": 12,
   "metadata": {},
   "outputs": [
    {
     "name": "stdout",
     "output_type": "stream",
     "text": [
      "Krippendorff's alpha: 0.5084062415734536\n"
     ]
    }
   ],
   "source": [
    "# Extract only the agreement data (ignoring the first column and NaN values)\n",
    "agreement_data = dataT[:, 1:]  # Exclude the ID column\n",
    "\n",
    "# Replace NaN with None, as required by the krippendorff package\n",
    "agreement_data = np.where(np.isnan(agreement_data), -1, agreement_data)\n",
    "\n",
    "# Compute Krippendorff's alpha\n",
    "alpha = krippendorff.alpha(reliability_data=agreement_data, level_of_measurement='nominal')\n",
    "\n",
    "print(f\"Krippendorff's alpha: {alpha}\")"
   ]
  },
  {
   "cell_type": "code",
   "execution_count": 13,
   "metadata": {},
   "outputs": [
    {
     "name": "stdout",
     "output_type": "stream",
     "text": [
      "Krippendorff's alpha: 0.31780336537192044\n"
     ]
    }
   ],
   "source": [
    "# Extract only the agreement data (ignoring the first column and NaN values)\n",
    "agreement_data = dataH[:, 1:]  # Exclude the ID column\n",
    "\n",
    "# Replace NaN with None, as required by the krippendorff package\n",
    "agreement_data = np.where(np.isnan(agreement_data), -1, agreement_data)\n",
    "\n",
    "# Compute Krippendorff's alpha\n",
    "alpha = krippendorff.alpha(reliability_data=agreement_data, level_of_measurement='nominal')\n",
    "\n",
    "print(f\"Krippendorff's alpha: {alpha}\")"
   ]
  },
  {
   "cell_type": "code",
   "execution_count": null,
   "metadata": {},
   "outputs": [],
   "source": []
  }
 ],
 "metadata": {
  "kernelspec": {
   "display_name": "debate",
   "language": "python",
   "name": "python3"
  },
  "language_info": {
   "codemirror_mode": {
    "name": "ipython",
    "version": 3
   },
   "file_extension": ".py",
   "mimetype": "text/x-python",
   "name": "python",
   "nbconvert_exporter": "python",
   "pygments_lexer": "ipython3",
   "version": "3.12.5"
  }
 },
 "nbformat": 4,
 "nbformat_minor": 2
}
