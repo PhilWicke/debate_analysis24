{
 "cells": [
  {
   "cell_type": "markdown",
   "metadata": {},
   "source": [
    "# Study 5 - Identity Politics and Group Appeal"
   ]
  },
  {
   "cell_type": "markdown",
   "metadata": {},
   "source": [
    "### Imports and Data loading"
   ]
  },
  {
   "cell_type": "code",
   "execution_count": 11,
   "metadata": {},
   "outputs": [],
   "source": [
    "import re\n",
    "from tqdm import tqdm\n",
    "# load the abcnews_transcript file from the data folder\n",
    "with open('../data/abcnews_transcript.txt', 'r') as file:\n",
    "    data = file.read()\n",
    "\n",
    "\n",
    "trumps_responses = []\n",
    "kamalas_responses = []\n",
    "\n",
    "trump_identifier = \"FORMER PRESIDENT DONALD TRUMP: \"\n",
    "kamala_identifier = \"VICE PRESIDENT KAMALA HARRIS: \"\n",
    "\n",
    "for line in data.split('\\n'):\n",
    "    if line.startswith(trump_identifier):\n",
    "        trumps_responses.append(line[len(trump_identifier):])\n",
    "    elif line.startswith(kamala_identifier):\n",
    "        kamalas_responses.append(line[len(kamala_identifier):])\n",
    "\n",
    "# load cleaned responses from the data folder for kamala kamala_responses_cleaned.txt\n",
    "with open('../data/kamala_responses_cleaned.txt', 'r') as file:\n",
    "    CLN_kamala_responses = file.read()\n",
    "\n",
    "# load cleaned responses from the data folder for trump_responses_cleaned.txt\n",
    "with open('../data/trump_responses_cleaned.txt', 'r') as file:\n",
    "    CLN_trump_responses = file.read()\n",
    "\n"
   ]
  },
  {
   "cell_type": "markdown",
   "metadata": {},
   "source": [
    "### Loading the Political Debate NLI Model"
   ]
  },
  {
   "cell_type": "code",
   "execution_count": 12,
   "metadata": {},
   "outputs": [],
   "source": [
    "# Download and use the mlburnham/Political_DEBATE_base_v1.0 model from the huggingface model hub\n",
    "# Load model directly\n",
    "from transformers import AutoTokenizer, AutoModelForSequenceClassification\n",
    "import torch\n",
    "\n",
    "gpu_id = 1\n",
    "\n",
    "with torch.cuda.device(1):\n",
    "    tokenizer = AutoTokenizer.from_pretrained(\"mlburnham/Political_DEBATE_base_v1.0\")\n",
    "    model = AutoModelForSequenceClassification.from_pretrained(\"mlburnham/Political_DEBATE_base_v1.0\").to(torch.device(\"cuda:\"+str(gpu_id)))"
   ]
  },
  {
   "cell_type": "markdown",
   "metadata": {},
   "source": [
    "### Define the hypothesis and evaluation"
   ]
  },
  {
   "cell_type": "code",
   "execution_count": 13,
   "metadata": {},
   "outputs": [],
   "source": [
    "# Hypotheses\n",
    "hypothesis_republican = \"This text expresses Republican beliefs.\"\n",
    "hypothesis_democrat = \"This text expresses Democrat beliefs.\"\n",
    "\n",
    "# Function to classify each sentence\n",
    "def print_political_affiliation(sentences):\n",
    "    for sentence in sentences:\n",
    "        # Tokenize input for both Republican and Democrat hypotheses\n",
    "        inputs_republican = tokenizer(sentence, hypothesis_republican, return_tensors=\"pt\", truncation=True).to(torch.device(\"cuda:\"+str(gpu_id)))\n",
    "        inputs_democrat = tokenizer(sentence, hypothesis_democrat, return_tensors=\"pt\", truncation=True).to(torch.device(\"cuda:\"+str(gpu_id)))\n",
    "\n",
    "        # Get logits for both hypotheses\n",
    "        with torch.no_grad():\n",
    "            logits_republican = model(**inputs_republican).logits\n",
    "            logits_democrat = model(**inputs_democrat).logits\n",
    "\n",
    "        # Compare the scores\n",
    "        republican_score = torch.softmax(logits_republican, dim=1)[0][1].item()  # Entailment score for Republican\n",
    "        democrat_score = torch.softmax(logits_democrat, dim=1)[0][1].item()      # Entailment score for Democrat\n",
    "\n",
    "        # Value closer to 0 means the hypothesis is more likely\n",
    "        # Value closer to 1 means the hypothesis is less likely\n",
    "        # If both scores are close to 1 then the sentence is neutral\n",
    "        print(f\"Sentence: {sentence}\")\n",
    "        if republican_score < 0.5:\n",
    "            print(f\"--> Republican belief likely ({round(republican_score,3)}).\")\n",
    "        if democrat_score < 0.5:\n",
    "            print(f\"--> Democrat belief likely ({round(democrat_score,3)}).\")\n",
    "        if republican_score > 0.5 and democrat_score > 0.5:\n",
    "            print(\"--> Neutral statement.\")\n"
   ]
  },
  {
   "cell_type": "markdown",
   "metadata": {},
   "source": [
    "### Test the function with test sentences"
   ]
  },
  {
   "cell_type": "code",
   "execution_count": 14,
   "metadata": {},
   "outputs": [
    {
     "name": "stdout",
     "output_type": "stream",
     "text": [
      "Sentence: I believe in lower taxes and less government intervention.\n",
      "--> Republican belief likely (0.0).\n",
      "Sentence: I believe in free healthcare and education for all.\n",
      "--> Democrat belief likely (0.002).\n",
      "Sentence: I believe in the right to bear arms and freedom of speech.\n",
      "--> Republican belief likely (0.102).\n"
     ]
    }
   ],
   "source": [
    "# the following sentences are examples of political beliefs \n",
    "# the first one is a republican belief, the second one is a democrat belief and the third one is a neutral belief\n",
    "test_sentences = [\"I believe in lower taxes and less government intervention.\", \n",
    "                    \"I believe in free healthcare and education for all.\", \n",
    "                    \"I believe in the right to bear arms and freedom of speech.\",\n",
    "                ]\n",
    "\n",
    "# Run the classification\n",
    "print_political_affiliation(test_sentences)  "
   ]
  },
  {
   "cell_type": "markdown",
   "metadata": {},
   "source": [
    "### Define function to assess every sentence"
   ]
  },
  {
   "cell_type": "code",
   "execution_count": 19,
   "metadata": {},
   "outputs": [],
   "source": [
    "# Function to classify each sentence\n",
    "def classify_political_affiliation(responses):\n",
    "    response_affiliations = {}\n",
    "    for response in tqdm(responses):\n",
    "        # Tokenize input for both Republican and Democrat hypotheses\n",
    "        inputs_republican = tokenizer(response, hypothesis_republican, return_tensors=\"pt\", truncation=True).to(torch.device(\"cuda:\"+str(gpu_id)))\n",
    "        inputs_democrat = tokenizer(response, hypothesis_democrat, return_tensors=\"pt\", truncation=True).to(torch.device(\"cuda:\"+str(gpu_id)))\n",
    "\n",
    "        # Get logits for both hypotheses\n",
    "        with torch.no_grad():\n",
    "            logits_republican = model(**inputs_republican).logits\n",
    "            logits_democrat = model(**inputs_democrat).logits\n",
    "\n",
    "        # Compare the scores\n",
    "        republican_score = torch.softmax(logits_republican, dim=1)[0][1].item()  # Entailment score for Republican\n",
    "        democrat_score = torch.softmax(logits_democrat, dim=1)[0][1].item()      # Entailment score for Democrat\n",
    "\n",
    "        # Enter sentence as key and scores as values\n",
    "        response_affiliations[response] = []\n",
    "        response_affiliations[response].append(republican_score)\n",
    "        response_affiliations[response].append(democrat_score)\n",
    "\n",
    "    return response_affiliations\n",
    "\n"
   ]
  },
  {
   "cell_type": "markdown",
   "metadata": {},
   "source": [
    "### Run experiments"
   ]
  },
  {
   "cell_type": "code",
   "execution_count": 20,
   "metadata": {},
   "outputs": [
    {
     "name": "stderr",
     "output_type": "stream",
     "text": [
      "100%|██████████| 74/74 [00:03<00:00, 20.17it/s]\n",
      "100%|██████████| 34/34 [00:01<00:00, 18.54it/s]\n"
     ]
    }
   ],
   "source": [
    "trumps_affiliated_sentences = classify_political_affiliation(trumps_responses)  \n",
    "kamalas_affiliated_sentences = classify_political_affiliation(kamalas_responses)"
   ]
  },
  {
   "cell_type": "markdown",
   "metadata": {},
   "source": [
    "### Plot the response affiliations"
   ]
  },
  {
   "cell_type": "code",
   "execution_count": 72,
   "metadata": {},
   "outputs": [
    {
     "data": {
      "image/png": "[encoded data removed]",
      "text/plain": [
       "<Figure size 1100x200 with 1 Axes>"
      ]
     },
     "metadata": {},
     "output_type": "display_data"
    }
   ],
   "source": [
    "import matplotlib.pyplot as plt\n",
    "import numpy as np\n",
    "\n",
    "# Filter out sentences where neither value is smaller than 0.5\n",
    "filtered_data = {k: v for k, v in trumps_affiliated_sentences.items() }#if v[0] < 0.5 or v[1] < 0.5}\n",
    "N = len(filtered_data)\n",
    "x = np.arange(1, N + 1)\n",
    "republican_bars = [1 - v[0] for v in filtered_data.values()]\n",
    "democrat_bars = [1 - v[1] for v in filtered_data.values()]\n",
    "\n",
    "# identify those bars that are above 0.95 for an astersik label\n",
    "asterisk = [i for i, v in enumerate(republican_bars) if v > 0.95]\n",
    "# Also do that for the democrat bars\n",
    "asterisk += [i for i, v in enumerate(democrat_bars) if v > 0.95]\n",
    "\n",
    "# Create the plot\n",
    "fig, ax = plt.subplots(figsize=(11, 2))\n",
    "width = 0.4  # Width of the bars\n",
    "ax.bar(x - width/2, republican_bars, width, color='red', alpha=.8, label='Republican')\n",
    "ax.bar(x + width/2, democrat_bars, width, color='blue', alpha=.8, label='Democrat')\n",
    "# add an asterisk to the bars that are above 0.95\n",
    "for i in asterisk:\n",
    "    ax.text(i + 1, 0.95, '*', fontsize=8, color='black', ha='center')\n",
    "ax.set_title('Predicted Political Affiliation of Trump\\'s Responses')\n",
    "ax.set_xlabel('Response Number')\n",
    "ax.set_ylabel('1 - Predicted Probability')\n",
    "ax.set_xticks(x)\n",
    "ax.set_xticklabels(x, fontsize=5)\n",
    "ax.legend(bbox_to_anchor=(1, 1.05))\n",
    "# Store the plot with 300dpi resolution\n",
    "plt.savefig('../figures/trumps_resp_aff.png', dpi=300, bbox_inches='tight')\n",
    "plt.show()"
   ]
  },
  {
   "cell_type": "code",
   "execution_count": 70,
   "metadata": {},
   "outputs": [
    {
     "data": {
      "image/png": "[encoded data removed]",
      "text/plain": [
       "<Figure size 1100x200 with 1 Axes>"
      ]
     },
     "metadata": {},
     "output_type": "display_data"
    }
   ],
   "source": [
    "import matplotlib.pyplot as plt\n",
    "import numpy as np\n",
    "\n",
    "# Filter out sentences where neither value is smaller than 0.5\n",
    "filtered_data = {k: v for k, v in kamalas_affiliated_sentences.items() }#if v[0] < 0.5 or v[1] < 0.5}\n",
    "N = len(filtered_data)\n",
    "x = np.arange(1, N + 1)\n",
    "republican_bars = [1 - v[0] for v in filtered_data.values()]\n",
    "democrat_bars = [1 - v[1] for v in filtered_data.values()]\n",
    "\n",
    "# identify those bars that are above 0.95 for an astersik label\n",
    "asterisk = [i for i, v in enumerate(republican_bars) if v > 0.95]\n",
    "# Also do that for the democrat bars\n",
    "asterisk += [i for i, v in enumerate(democrat_bars) if v > 0.95]\n",
    "\n",
    "# Create the plot\n",
    "fig, ax = plt.subplots(figsize=(11, 2))\n",
    "width = 0.4  # Width of the bars\n",
    "ax.bar(x - width/2, republican_bars, width, color='red', alpha=.8, label='Republican')\n",
    "ax.bar(x + width/2, democrat_bars, width, color='blue', alpha=.8, label='Democrat')\n",
    "# add an asterisk to the bars that are above 0.95\n",
    "for i in asterisk:\n",
    "    ax.text(i + 1, 0.95, '*', fontsize=10, color='black', ha='center')\n",
    "ax.set_title('Predicted Political Affiliation of Harris\\' Responses')\n",
    "ax.set_xlabel('Response Number')\n",
    "ax.set_ylabel('1 - Predicted Probability')\n",
    "ax.set_xticks(x)\n",
    "ax.set_xticklabels(x, fontsize=5)\n",
    "ax.legend(bbox_to_anchor=(1, 1.05))\n",
    "plt.savefig('../figures/harris_resp_aff.png', dpi=300, bbox_inches='tight')\n",
    "plt.show()"
   ]
  },
  {
   "cell_type": "markdown",
   "metadata": {},
   "source": [
    "### Checking Trump's and Harris' stats"
   ]
  },
  {
   "cell_type": "code",
   "execution_count": 73,
   "metadata": {},
   "outputs": [
    {
     "name": "stdout",
     "output_type": "stream",
     "text": [
      "Trump's responses:\n",
      "Republican responses: 10 (13.70%)\n",
      "Democrat responses: 4 (5.48%)\n",
      "Harris' responses:\n",
      "Republican responses: 2 (5.88%)\n",
      "Democrat responses: 6 (17.65%)\n"
     ]
    }
   ],
   "source": [
    "# Check some basic statistics of both affiliations of the responses\n",
    "# How many responses are classified as Republican or Democrat for each candidate\n",
    "# How many are those in absolute numbers and in percentage\n",
    "\n",
    "def get_stats(affiliated_responses):\n",
    "    republican_count = 0\n",
    "    democrat_count = 0\n",
    "    for k, v in affiliated_responses.items():\n",
    "        if v[0] < 0.05:\n",
    "            republican_count += 1\n",
    "        if v[1] < 0.05:\n",
    "            democrat_count += 1\n",
    "    total_responses = len(affiliated_responses)\n",
    "    republican_percentage = republican_count / total_responses * 100\n",
    "    democrat_percentage = democrat_count / total_responses * 100\n",
    "    return republican_count, democrat_count, republican_percentage, democrat_percentage\n",
    "\n",
    "trump_stats = get_stats(trumps_affiliated_sentences)\n",
    "harris_stats = get_stats(kamalas_affiliated_sentences)\n",
    "\n",
    "print(\"Trump's responses:\")\n",
    "print(f\"Republican responses: {trump_stats[0]} ({trump_stats[2]:.2f}%)\")\n",
    "print(f\"Democrat responses: {trump_stats[1]} ({trump_stats[3]:.2f}%)\")\n",
    "print(\"Harris' responses:\")\n",
    "print(f\"Republican responses: {harris_stats[0]} ({harris_stats[2]:.2f}%)\")\n",
    "print(f\"Democrat responses: {harris_stats[1]} ({harris_stats[3]:.2f}%)\")\n",
    "\n"
   ]
  },
  {
   "cell_type": "markdown",
   "metadata": {},
   "source": [
    "### Opposing views"
   ]
  },
  {
   "cell_type": "code",
   "execution_count": 74,
   "metadata": {},
   "outputs": [
    {
     "name": "stdout",
     "output_type": "stream",
     "text": [
      "0.004 \t- First of all, they bought their chips from Taiwan. We hardly make chips anymore because of philosophies like they have and policies like they have. I don't say her because she has no policy. Everything that she believed three years ago and four years ago is out the window. She's going to my philosophy now. In fact, I was going to send her a MAGA hat. She's gone to my philosophy. But if she ever got elected, she'd change it. And it will be the end of our country. She's a Marxist. Everybody knows she's a Marxist. Her father's a Marxist professor in economics. And he taught her well. But when you look at what she's done to our country and when you look at these millions and millions of people that are pouring into our country monthly where it's I believe 21 million people, not the 15 that people say, and I think it's a lot higher than the 21. That's bigger than New York state. Pouring in. And just look at what they're doing to our country. They're criminals. Many of these people coming in are criminals. And that's bad for our economy too. You mentioned before, we'll talk about immigration later. Well, bad immigration is the worst thing that can happen to our economy. They have and she has destroyed our country with policy that's insane. Almost policy that you'd say they have to hate our country.\n",
      "0.0 \t- And that's why I did that, because that predominates. Because they're radical. The Democrats are radical in that. And her vice presidential pick, which I think was a horrible pick, by the way for our country, because he is really out of it. But her vice presidential pick says abortion in the ninth month is absolutely fine. He also says execution after birth, it's execution, no longer abortion, because the baby is born, is okay. And that's not okay with me. Hence the vote. But what I did is something for 52 years they've been trying to get Roe v. Wade into the states.\n",
      "0.0 \t- She went out -- she went out in Minnesota and wanted to let criminals that killed people, that burned down Minneapolis, she went out and raised money to get them out of jail. She did things that nobody would ever think of. Now she wants to do transgender operations on illegal aliens that are in prison. This is a radical left liberal that would do this. She wants to confiscate your guns and she will never allow fracking in Pennsylvania. If she won the election, fracking in Pennsylvania will end on day one. Just to finish one thing, so important in my opinion, so, I got the oil business going like nobody has ever done before. They took, when they took over, they got rid of it, started getting rid of it, and the prices were going up the roof. They immediately let these guys go to where they were. I would have been five times, four times, five times higher because you're talking about 3 1/2 years ago. They got it up to where I was because they had no choice. Because the prices of energy were quadrupling and doubling. You saw what happened to gasoline. So, they said let's go back to Trump. But if she won the election, the day after that election, they'll go back to destroying our country and oil will be dead, fossil fuel will be dead. We'll go back to windmills and we'll go back to solar, where they need a whole desert to get some energy to come out. You ever see a solar plant? By the way, I'm a big fan of solar. But they take 400, 500 acres of desert soil--\n",
      "0.039 \t- But he had 14 million votes. They threw them out. She got zero votes. And when she ran, she was the first one to leave because she failed. And now she's running. I don't understand it but I'm okay with it – because I think we're going to do pretty well.\n",
      "\n",
      "0.001 \t- So I'm the only person on this stage who has prosecuted transnational criminal organizations for the trafficking of guns, drugs, and human beings. And let me say that the United States Congress, including some of the most conservative members of the United States Senate, came up with a border security bill which I supported. And that bill would have put 1,500 more border agents on the border to help those folks who are working there right now over time trying to do their job. It would have allowed us to stem the flow of fentanyl coming into the United States. I know there are so many families watching tonight who have been personally affected by the surge of fentanyl in our country. That bill would have put more resources to allow us to prosecute transnational criminal organizations for trafficking in guns, drugs and human beings. But you know what happened to that bill? Donald Trump got on the phone, called up some folks in Congress, and said kill the bill. And you know why? Because he preferred to run on a problem instead of fixing a problem. And understand, this comes at a time where the people of our country actually need a leader who engages in solutions, who actually addresses the problems at hand. But what we have in the former president is someone who would prefer to run on a problem instead of fixing a problem. And I'll tell you something, he's going to talk about immigration a lot tonight even when it's not the subject that is being raised. And I'm going to actually do something really unusual and I'm going to invite you to attend one of Donald Trump's rallies because it's a really interesting thing to watch. You will see during the course of his rallies he talks about fictional characters like Hannibal Lecter. He will talk about windmills cause cancer. And what you will also notice is that people start leaving his rallies early out of exhaustion and boredom. And I will tell you the one thing you will not hear him talk about is you. You will not hear him talk about your needs, your dreams, and your, your desires. And I'll tell you, I believe you deserve a president who actually puts you first. And I pledge to you that I will.\n",
      "0.0 \t- Talk about extreme. Um, you know, this is I think one of the reasons why in this election I actually have the endorsement of 200 Republicans who have formally worked with President Bush, Mitt Romney, and John McCain including the endorsement of former Vice President Dick Cheney and Congressmember Liz Cheney. And if you want to really know the inside track on who the former president is, if he didn't make it clear already, just ask people who have worked with him. His former chief of staff, a four-star general, has said he has contempt for the constitution of the United States. His former national security adviser has said he is dangerous and unfit. His former secretary of defense has said the nation, the republic would never survive another Trump term. And when we listen to this kind of rhetoric, when the issues that affect the American people are not being addressed, I think the choice is clear in this election.\n"
     ]
    }
   ],
   "source": [
    "# Print the responses in which Trump says something that is classified as a Democrat belief\n",
    "for k, v in trumps_affiliated_sentences.items():\n",
    "    if v[1] < 0.05:\n",
    "        print(round(v[1],3),\"\\t-\",k)\n",
    "\n",
    "print()\n",
    "# Print the responses in which Harris says something that is classified as a Republican belief\n",
    "for k, v in kamalas_affiliated_sentences.items():\n",
    "    if v[0] < 0.05:\n",
    "        print(round(v[0],3),\"\\t-\",k)\n"
   ]
  }
 ],
 "metadata": {
  "kernelspec": {
   "display_name": "debate",
   "language": "python",
   "name": "python3"
  },
  "language_info": {
   "codemirror_mode": {
    "name": "ipython",
    "version": 3
   },
   "file_extension": ".py",
   "mimetype": "text/x-python",
   "name": "python",
   "nbconvert_exporter": "python",
   "pygments_lexer": "ipython3",
   "version": "3.12.5"
  }
 },
 "nbformat": 4,
 "nbformat_minor": 2
}
