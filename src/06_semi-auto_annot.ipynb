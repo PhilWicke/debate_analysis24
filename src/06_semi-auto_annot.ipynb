{
 "cells": [
  {
   "cell_type": "code",
   "execution_count": 1,
   "metadata": {},
   "outputs": [],
   "source": [
    "import openai\n",
    "\n",
    "RATE_LIMIT = 0.5 # seconds after every OpenAI API call\n",
    "with open('openai_cred.key', 'r') as inf:\n",
    "    apiKey = inf.readline().strip()\n",
    "    orgKey = inf.readline().strip()\n",
    "    projKey = inf.readline().strip()\n",
    "\n",
    "client = openai.OpenAI(\n",
    "      api_key=apiKey,\n",
    "      organization=orgKey,\n",
    "      project=projKey\n",
    ")\n",
    "\n",
    "def prompt_gpt(prompt, tokens=250):\n",
    "    completion = client.chat.completions.create(\n",
    "                    model=\"gpt-4o\",\n",
    "                    messages=[\n",
    "                    {\"role\": \"user\", \"content\": prompt}],\n",
    "                    temperature=0,\n",
    "                    max_tokens=tokens\n",
    "    )\n",
    "    return completion.choices[0].message.content\n",
    "\n"
   ]
  },
  {
   "cell_type": "code",
   "execution_count": 2,
   "metadata": {},
   "outputs": [
    {
     "data": {
      "text/plain": [
       "'The word \"strawberry\" contains three \"r\" letters.'"
      ]
     },
     "execution_count": 2,
     "metadata": {},
     "output_type": "execute_result"
    }
   ],
   "source": [
    "prompt_gpt(\"How many r are in strawberry?\")"
   ]
  },
  {
   "cell_type": "markdown",
   "metadata": {},
   "source": [
    "# Load the Debate Data"
   ]
  },
  {
   "cell_type": "code",
   "execution_count": 2,
   "metadata": {},
   "outputs": [
    {
     "name": "stdout",
     "output_type": "stream",
     "text": [
      "Number of Trump responses: 74\n",
      "Number of Kamala responses: 34\n",
      "\n",
      "Trump: Nice to see you. Have fun.\n",
      "Kamala: Kamala Harris. Let's have a good debate.\n"
     ]
    }
   ],
   "source": [
    "# load the abcnews_transcript file from the data folder\n",
    "with open('../data/abcnews_transcript.txt', 'r') as file:\n",
    "    data = file.read()\n",
    "\n",
    "trumps_responses = []\n",
    "kamalas_responses = []\n",
    "\n",
    "trump_identifier = \"FORMER PRESIDENT DONALD TRUMP: \"\n",
    "kamala_identifier = \"VICE PRESIDENT KAMALA HARRIS: \"\n",
    "\n",
    "for line in data.split('\\n'):\n",
    "    if line.startswith(trump_identifier):\n",
    "        trumps_responses.append(line[len(trump_identifier):])\n",
    "    elif line.startswith(kamala_identifier):\n",
    "        kamalas_responses.append(line[len(kamala_identifier):])\n",
    "\n",
    "print('Number of Trump responses:', len(trumps_responses))\n",
    "print('Number of Kamala responses:', len(kamalas_responses))\n",
    "\n",
    "# print the first response from each\n",
    "print()\n",
    "print('Trump:', trumps_responses[0])\n",
    "print('Kamala:', kamalas_responses[0])"
   ]
  },
  {
   "cell_type": "code",
   "execution_count": 3,
   "metadata": {},
   "outputs": [],
   "source": [
    "prompt_01 = \"Given the following response in a debate, does the response \\\n",
    "make use of figurative frames?\\n\\\n",
    "If so, say yes and list the figurative \\\n",
    "frames with their explanation in brackets. \\\n",
    "Do not use new lines for your response. If no figurative frames\\\n",
    "were used, say 'no figurative frames'. Response: \"\n",
    "\n",
    "def annotate_response(response, speaker):\n",
    "    model_answer = prompt_gpt(prompt_01+response)\n",
    "    return model_answer"
   ]
  },
  {
   "cell_type": "code",
   "execution_count": 5,
   "metadata": {},
   "outputs": [
    {
     "data": {
      "text/plain": [
       "'Yes. Figurative frames: \"country buster\" (inflation is described as something that can break up countries), \"taking over the towns\" (immigrants are described as if they are invading and seizing control of towns), \"destroying our country\" (immigrants are described as causing widespread damage to the nation).'"
      ]
     },
     "execution_count": 5,
     "metadata": {},
     "output_type": "execute_result"
    }
   ],
   "source": [
    "annotate_response(trumps_responses[2], 'Trump')"
   ]
  },
  {
   "cell_type": "code",
   "execution_count": 6,
   "metadata": {},
   "outputs": [
    {
     "name": "stderr",
     "output_type": "stream",
     "text": [
      "0it [00:00, ?it/s]"
     ]
    },
    {
     "name": "stderr",
     "output_type": "stream",
     "text": [
      "74it [01:50,  1.49s/it]\n"
     ]
    }
   ],
   "source": [
    "from tqdm import tqdm\n",
    "\n",
    "# annotate all responses by trump and write to a file\n",
    "with open('trump_GPT4_FigFrames.txt', 'w') as file:\n",
    "    file.write(\"ID\\tResponse\\tAnnotation\\n\")\n",
    "\n",
    "    for idx, response in tqdm(enumerate(trumps_responses)):\n",
    "        annotation = annotate_response(response, 'Trump')\n",
    "        file.write(str(idx)+\"\\t\"+response+\"\\t\"+annotation+'\\n')"
   ]
  },
  {
   "cell_type": "code",
   "execution_count": 4,
   "metadata": {},
   "outputs": [
    {
     "name": "stderr",
     "output_type": "stream",
     "text": [
      "34it [00:44,  1.32s/it]\n"
     ]
    }
   ],
   "source": [
    "from tqdm import tqdm\n",
    "\n",
    "# annotate all responses by trump and write to a file\n",
    "with open('harris_GPT4_FigFrames.txt', 'w') as file:\n",
    "    file.write(\"ID\\tResponse\\tAnnotation\\n\")\n",
    "\n",
    "    for idx, response in tqdm(enumerate(kamalas_responses)):\n",
    "        annotation = annotate_response(response, 'Harris')\n",
    "        file.write(str(idx)+\"\\t\"+response+\"\\t\"+annotation+'\\n')"
   ]
  },
  {
   "cell_type": "code",
   "execution_count": 16,
   "metadata": {},
   "outputs": [
    {
     "name": "stdout",
     "output_type": "stream",
     "text": [
      "\"country buster\" (inflation is described as something that can break up countries), \"taking over the towns\" (immigrants are described as if they are invading and seizing control of towns), \"destroying our country\" (immigrants are described as causing severe harm to the nation),\"I'm an open book\" (metaphor for being transparent and honest), \"We got hit with a pandemic\" (metaphor for being severely affected by the pandemic), \"We handed them over a country\" (metaphor for transferring control or responsibility), \"Nobody's ever seen anything like it\" (hyperbole to emphasize the uniqueness of the situation), \"We did things that nobody thought possible\" (hyperbole to emphasize the extraordinary achievements),\"sound bite\" (a brief, catchy statement designed for media consumption), \"bring up our worth, our value as a country\" (metaphorically increasing the nation's economic and social standing), \"run-Spot-run\" (a reference to simplistic, elementary-level content, implying her plan is overly simplistic),\"ripping us off\" (metaphor for unfair trade practices), \"dying with what they've done\" (hyperbole to emphasize the negative impact on people),\"out the window\" (something discarded or abandoned), \"send her a MAGA hat\" (symbolic gesture indicating a shift in political allegiance), \"end of our country\" (hyperbolic expression indicating severe negative impact), \"pouring into our country\" (metaphor for large influx), \"destroyed our country\" (metaphor for causing significant harm),They even have, and you can look at the governor of West Virginia, the previous governor of West Virginia, not the current governor, who's doing an excellent job, but the governor before\"radical\" (implies extreme and unreasonable positions), \"horrible pick\" (implies a disastrous choice), \"out of it\" (implies being disconnected or unaware), \"execution after birth\" (implies a severe and morally charged action),\"genius and heart and strength\" (metaphor for the qualities and virtues of the justices), \"torn our country apart\" (metaphor for causing deep division and conflict), \"brought back to the states\" (metaphor for returning control or decision-making power),\"there she goes again\" (implies a repeated, predictable behavior), \"torn our country apart\" (suggests deep division and conflict),\"She'll never get the vote\" (hyperbole - exaggerating the impossibility of getting the vote), \"It's just talk\" (metaphor - implying that the promises are empty and meaningless), \"her boss, if you call him a boss, he spends all his time on the beach\" (metaphor - suggesting laziness or lack of seriousness), \"students got taunted with this whole thing\" (metaphor - implying that students were teased or misled), \"millions and millions of people that had to pay off their student loans\" (hyperbole - emphasizing the large number of people affected),\"get it\" (implies understanding or achieving something, often used metaphorically to indicate comprehension or success), \"taunted young people\" (suggests a figurative form of teasing or provoking, not literal), \"get this approved\" (metaphorically refers to achieving approval, not physically obtaining it), \"wanted to get it out of congress and out of the federal government\" (metaphorically refers to removing an issue from legislative or governmental control),\"put the baby aside\" (metaphor for neglecting or disregarding the baby), \"determine what we want to do with the baby\" (metaphor for making a decision about the baby's fate),\"take their country back\" (metaphor for reclaiming control or restoring previous conditions), \"our country is being lost\" (metaphor for decline or deterioration), \"we're a failing nation\" (metaphor for decline or deterioration), \"end up in World War 3\" (hyperbole for severe conflict or disaster), \"Venezuela on steroids\" (hyperbole for extreme negative transformation),\"I'm a different kind of a person\" (metaphor - comparing oneself to a different category of person to emphasize uniqueness), \"They should have fired all those generals, all those top people\" (metaphor - using \"fired\" to imply removing someone from their position as a form of punishment or correction), \"one of the most incompetently handled situations anybody has ever seen\" (hyperbole - exaggerating the level of incompetence to emphasize the point), \"they can write books. With nobody else can they\" (hyperbole - exaggerating the uniqueness of the situation to emphasize the point),\"destroying the fabric of our country\" (implies that the country is like a piece of cloth being torn apart), \"crime here is up and through the roof\" (suggests crime levels are extremely high, as if they have broken through a ceiling), \"new form of crime\" (implies crime is like a product that can have different versions or forms),\"defrauding statements\" (metaphor - comparing statements to fraudulent actions), \"It was a fraud\" (metaphor - comparing the situation to an act of fraud),\"weaponization\" (using the metaphor of turning the justice system into a weapon to attack political opponents), \"they weaponized the justice department\" (implies the justice department is being used as a weapon), \"fake cases\" (implies the cases are not genuine but fabricated for a purpose),\"weaponized\" (using the metaphor of turning something into a weapon), \"took a bullet to the head\" (using the metaphor of being severely harmed or attacked), \"threat to democracy\" (using the metaphor of posing danger to a system of governance),\"I built it into many, many billions of dollars\" (metaphor for growing wealth significantly), \"everybody's laughing at it\" (metaphor for ridicule or lack of seriousness),\"prices were going up the roof\" (hyperbole to emphasize the rapid increase in prices), \"oil will be dead, fossil fuel will be dead\" (metaphor to suggest the end of the oil and fossil fuel industry), \"we'll go back to windmills and we'll go back to solar, where they need a whole desert to get some energy to come out\" (hyperbole to exaggerate the land required for solar energy),\"out-of-control police officer\" (metaphor for a police officer acting recklessly), \"pouring into our country\" (metaphor for a large influx of people entering the country), \"border czar\" (metaphor for someone in charge of border control, likening them to a powerful ruler),\"blood bash, bath\" (metaphor for severe destruction or chaos), \"bloodbath\" (metaphor for extreme violence or turmoil), \"debunked\" (metaphor for disproving or exposing falsehood), \"get him out of bed\" (metaphor for waking someone up to take action), \"come on down to the office\" (metaphor for taking immediate action),\"lost by a whisker\" (metaphor indicating a very narrow margin), \"walls\" (metaphor for strong defenses or barriers), \"borders\" (metaphor for clear boundaries or limits),\"a system where a person in an election doesn't have standing\" (metaphor for an unfair or flawed system), \"a nation in decline\" (metaphor for a country experiencing deterioration), \"a nation that is dying\" (metaphor for a country facing severe problems or existential threats),\"blowing up\" (metaphor for escalating conflict or chaos), \"strong man\" (metaphor for a powerful and authoritative leader), \"afraid of him\" (metaphor for being intimidated or deterred by someone), \"weak pathetic man\" (metaphor for someone perceived as ineffective or lacking strength),\"spheres of terror\" (metaphor - describing terrorist groups as spheres to emphasize their pervasive and encompassing nature), \"the whole place is going to get blown up\" (hyperbole - exaggerating the potential destruction to emphasize the severity of the situation),\"weak on national security\" (metaphor suggesting lack of strength or effectiveness in protecting the nation), \"what he's gotten away with is absolutely incredible\" (metaphor implying someone has escaped consequences for actions), \"kill the Keystone pipeline\" (metaphor for stopping or ending a project),\"war that's dying to be settled\" (personification - attributing human qualities to the war), \"our country has gone to hell\" (hyperbole - exaggeration to emphasize the decline of the country), \"we're playing with World War 3\" (metaphor - comparing the situation to a dangerous game),\"threw him out of a campaign like a dog\" (simile comparing the act of removing someone from a campaign to discarding a dog, implying harsh and disrespectful treatment),\"doesn't know he's alive\" (implies someone is unaware or oblivious, using the state of being alive as a metaphor for awareness),\"get this war finished\" (metaphor for ending the conflict), \"get it done\" (metaphor for completing a task), \"stop all of these human lives from being destroyed\" (metaphor for preventing loss of life),\"goes down\" (metaphor for being recorded or remembered in history), \"horrible negotiator\" (metaphor for being ineffective in negotiations), \"sent her in\" (metaphor for deploying someone like in a mission or battle),\"fighting force\" (metaphor for a group engaged in combat), \"deal with the wrong people\" (metaphor for interacting with dangerous or untrustworthy individuals), \"blew it\" (idiom meaning to fail or ruin something),\"the worst withdrawal\" (hyperbole to emphasize the severity of the withdrawal), \"the most embarrassing moment in the history of our country\" (hyperbole to stress the level of embarrassment), \"how incompetent she and her boss are\" (metaphor comparing their abilities to incompetence),\"They're destroying our country\" (metaphor - comparing the actions of the opposing side to destruction), \"I built one of the greatest economies in the history of the world\" (hyperbole - exaggerating the success of the economy), \"It's going to be bigger, better and stronger\" (tricolon and hyperbole - using a series of three to emphasize improvement), \"She is Biden\" (metaphor - equating the person directly with Biden),\"let it rot\" (metaphor for allowing something to deteriorate or fail), \"I inherited Obamacare\" (metaphor for receiving a problematic situation from predecessors),\"worked hard and made money\" (metaphor for earning success through effort), \"wait six months for an operation that you need immediately\" (hyperbole to emphasize inefficiency),\"they're all leaving\" (implies a mass exodus of jobs), \"building big auto plants in Mexico\" (suggests large-scale industrial movement), \"they think they're going to sell their cars into the United States\" (implies a strategic economic invasion), \"What they have given to China is unbelievable\" (suggests a betrayal or significant loss), \"they will kill the United Auto Workers\" (implies destruction of livelihoods), \"selling our country down the tubes\" (suggests a decline or ruin of the nation),\"beautiful white house\" (metaphor for the White House, implying it should be a place of action and decision-making), \"we're a failing nation\" (metaphor suggesting the country is in decline), \"we're a nation that's in serious decline\" (metaphor for deteriorating conditions), \"we're being laughed at all over the world\" (metaphor for losing respect globally), \"we're not a leader\" (metaphor for losing leadership status), \"we don't have any idea what's going on\" (metaphor for lack of direction or understanding), \"we're going to end up in a third World War\" (metaphor for escalating conflict), \"a war like no other\" (metaphor for unprecedented conflict), \"the power of weaponry\" (metaphor for destructive potential), \"I rebuilt our entire military\" (metaphor for strengthening defense), \"they're destroying our country\" (metaphor for causing significant harm),\n"
     ]
    }
   ],
   "source": [
    "# annotate all responses by trump and write to a file\n",
    "with open('trump_GPT4_FigFrames.txt', 'r') as file:\n",
    "    # read all lines\n",
    "    lines = file.readlines()\n",
    "\n",
    "all_frames = \"\"\n",
    "for line in lines:\n",
    "    for part in line.split(\"\\t\"):\n",
    "        if part.lower().startswith(\"yes\"):\n",
    "            if \"frames: \" in part:\n",
    "                all_frames += line.split(\": \")[1].strip()\n",
    "            elif \"frames. \" in part:\n",
    "                all_frames += line.split(\". \")[1].strip()\n",
    "\n",
    "all_frames =  all_frames.replace(\").\", \"),\")\n",
    "print(all_frames)\n"
   ]
  },
  {
   "cell_type": "markdown",
   "metadata": {},
   "source": [
    "#### The next line is expensive!"
   ]
  },
  {
   "cell_type": "code",
   "execution_count": 24,
   "metadata": {},
   "outputs": [],
   "source": [
    "prompt_02 = \"Your are provided with a list of figurative frames. \\\n",
    "    The format is the following: \\\"Frame\\\" (Explanation). \\\n",
    "        Your task is to identify the most prominent themes across the list and \\\n",
    "            group each frame into a theme, but do not repeat the (Explanation). Here is the list: \"\n",
    "\n",
    "answer @03= prompt_gpt(prompt_02+all_frames, tokens=4096)\n",
    "\n",
    "# write the answer to a file\n",
    "with open('trump_GPT4_Themes.txt', 'w') as file:\n",
    "    file.write(answer)\n"
   ]
  }
 ],
 "metadata": {
  "kernelspec": {
   "display_name": "debate",
   "language": "python",
   "name": "python3"
  },
  "language_info": {
   "codemirror_mode": {
    "name": "ipython",
    "version": 3
   },
   "file_extension": ".py",
   "mimetype": "text/x-python",
   "name": "python",
   "nbconvert_exporter": "python",
   "pygments_lexer": "ipython3",
   "version": "3.12.5"
  }
 },
 "nbformat": 4,
 "nbformat_minor": 2
}
