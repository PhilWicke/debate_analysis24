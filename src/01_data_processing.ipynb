{
 "cells": [
  {
   "cell_type": "markdown",
   "metadata": {},
   "source": [
    "# Data Preprocessing of Presidential Debate 2024 (Trump vs Harris)"
   ]
  },
  {
   "cell_type": "code",
   "execution_count": null,
   "metadata": {},
   "outputs": [],
   "source": [
    "# load the abcnews_transcript file from the data folder\n",
    "\n",
    "with open('data/abcnews_transcripts.csv', 'r') as file:\n",
    "    data = file.read()\n",
    "\n",
    "# print the first 1000 characters of the file\n",
    "print(data[:1000])"
   ]
  },
  {
   "cell_type": "code",
   "execution_count": null,
   "metadata": {},
   "outputs": [],
   "source": []
  }
 ],
 "metadata": {
  "language_info": {
   "name": "python"
  }
 },
 "nbformat": 4,
 "nbformat_minor": 2
}
