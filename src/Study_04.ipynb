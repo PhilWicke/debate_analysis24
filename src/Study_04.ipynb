{
 "cells": [
  {
   "cell_type": "markdown",
   "metadata": {},
   "source": [
    "# Study 4: Linguistic Style Analysis – Complex vs. Direct"
   ]
  },
  {
   "cell_type": "markdown",
   "metadata": {},
   "source": [
    "## Concreteness with Brysbaert data"
   ]
  },
  {
   "cell_type": "code",
   "execution_count": 23,
   "metadata": {},
   "outputs": [],
   "source": [
    "import nltk\n",
    "from nltk.corpus import stopwords\n",
    "import spacy\n",
    "import random\n",
    "import matplotlib.pyplot as plt\n",
    "from collections import Counter\n",
    "from scipy.stats import shapiro, normaltest"
   ]
  },
  {
   "cell_type": "markdown",
   "metadata": {},
   "source": [
    "#### Data cleaning and processing"
   ]
  },
  {
   "cell_type": "code",
   "execution_count": 24,
   "metadata": {},
   "outputs": [
    {
     "name": "stderr",
     "output_type": "stream",
     "text": [
      "[nltk_data] Downloading package stopwords to\n",
      "[nltk_data]     /mounts/Users/cisintern/pwicke/nltk_data...\n",
      "[nltk_data]   Package stopwords is already up-to-date!\n"
     ]
    }
   ],
   "source": [
    "# load the abcnews_transcript file from the data folder\n",
    "with open('../data/abcnews_transcript.txt', 'r') as file:\n",
    "    data = file.read()\n",
    "\n",
    "trumps_responses = []\n",
    "kamalas_responses = []\n",
    "\n",
    "trump_identifier = \"FORMER PRESIDENT DONALD TRUMP: \"\n",
    "kamala_identifier = \"VICE PRESIDENT KAMALA HARRIS: \"\n",
    "\n",
    "for line in data.split('\\n'):\n",
    "    if line.startswith(trump_identifier):\n",
    "        trumps_responses.append(line[len(trump_identifier):])\n",
    "    elif line.startswith(kamala_identifier):\n",
    "        kamalas_responses.append(line[len(kamala_identifier):])\n",
    "\n",
    "nltk.download('stopwords')\n",
    "nlp = spacy.load('en_core_web_sm')\n",
    "stop_words = set(stopwords.words('english'))\n",
    "# Clean the responses from stopwords\n",
    "trump_responses_cleaned = []\n",
    "for response in trumps_responses:\n",
    "\n",
    "    # CLEANING\n",
    "    response = response.replace('.', '').replace(',', '').replace('--', '').replace('\\'re', '').replace('\\'m', '')\n",
    "    doc = nlp(response)\n",
    "    response_cleaned = ' '.join([token.lemma_ for token in doc if token.is_alpha])\n",
    "    response_cleaned = ' '.join([word for word in response_cleaned.split() if word.lower() not in stop_words])\n",
    "\n",
    "    trump_responses_cleaned.append(response_cleaned)\n",
    "kamala_responses_cleaned = []\n",
    "for response in kamalas_responses:\n",
    "\n",
    "    # CLEANING\n",
    "    response = response.replace('.', '').replace(',', '').replace('--', '').replace('\\'re', '').replace('\\'m', '')\n",
    "    doc = nlp(response)\n",
    "    response_cleaned = ' '.join([token.lemma_ for token in doc if token.is_alpha])\n",
    "    response_cleaned = ' '.join([word for word in response_cleaned.split() if word.lower() not in stop_words])\n",
    "    \n",
    "    kamala_responses_cleaned.append(response_cleaned)\n"
   ]
  },
  {
   "cell_type": "code",
   "execution_count": 25,
   "metadata": {},
   "outputs": [
    {
     "name": "stdout",
     "output_type": "stream",
     "text": [
      "Number of words with concreteness scores: 37138\n"
     ]
    }
   ],
   "source": [
    "# In the file \"../data/concreteness_brys.txt\" we have a list of words with their concreteness scores\n",
    "# The file format is like this:\n",
    "# Word\tBigram\tConc.M\tConc.SD\tUnknown\tTotal\tPercent_known\tSUBTLEX\tDom_Pos\n",
    "# roadsweeper\t0\t4.85\t0.37\t1\t27\t0.96\t0\t0\n",
    "# traindriver\t0\t4.54\t0.71\t3\t29\t0.90\t0\t0\n",
    "# tush\t0\t4.45\t1.01\t3\t25\t0.88\t66\t0\n",
    "\n",
    "# Frist, we load the file and create a dictionary with the words as keys and their concreteness scores as values\n",
    "concreteness_scores = {}\n",
    "with open('../data/concreteness_brys.txt', 'r') as file:\n",
    "    lines = file.readlines()\n",
    "    for line in lines[1:]:\n",
    "        word, _, score, *_ = line.split()\n",
    "        concreteness_scores[word] = float(score)\n",
    "\n",
    "print('Number of words with concreteness scores:', len(concreteness_scores))\n"
   ]
  },
  {
   "cell_type": "code",
   "execution_count": 26,
   "metadata": {},
   "outputs": [
    {
     "name": "stdout",
     "output_type": "stream",
     "text": [
      "would (1.12) ask (2.52) question (1.0) \n"
     ]
    }
   ],
   "source": [
    "# First, we look at a random response and print the concreteness scores of the words in the response\n",
    "response = random.choice(trump_responses_cleaned)\n",
    "response_words = response.split()\n",
    "\n",
    "# Get the concreteness scores of the words in the response, if not found discard the word\n",
    "response_concreteness_scores = [concreteness_scores.get(word, None) for word in response_words]\n",
    "\n",
    "# Print the response and the concreteness scores in brackets beside each word\n",
    "for word, score in zip(response_words, response_concreteness_scores):\n",
    "    print(f'{word} ({score})', end=' ')\n",
    "print()\n"
   ]
  },
  {
   "cell_type": "markdown",
   "metadata": {},
   "source": [
    "#### Evaluation of concreteness scores"
   ]
  },
  {
   "cell_type": "code",
   "execution_count": 27,
   "metadata": {},
   "outputs": [
    {
     "name": "stdout",
     "output_type": "stream",
     "text": [
      "Average concreteness score of words in Trump responses: 2.027010887495876\n",
      "Average concreteness score of words in Kamala responses: 2.1014585115483317\n",
      "Standard deviation of concreteness scores in Trump responses: 1.3799101678128383\n",
      "Standard deviation of concreteness scores in Kamala responses: 1.3118113457979557\n"
     ]
    }
   ],
   "source": [
    "# Let's calculate the average concreteness score of the words in the responses of Trump and Kamala\n",
    "# Considering that some words might not have a concreteness score, we will calculate the average of the scores that are not None \n",
    "# The average therefore disregards words that do not have a concreteness score\n",
    "# For each speaker, we use the _responses_cleaned lists to calculate the average concreteness score\n",
    "\n",
    "trump_concreteness_scores = [concreteness_scores.get(word, None) for response in trump_responses_cleaned for word in response.split()]\n",
    "kamala_concreteness_scores = [concreteness_scores.get(word, None) for response in kamala_responses_cleaned for word in response.split()]\n",
    "\n",
    "# Calculate the average concreteness scores\n",
    "trump_avg_concreteness = sum(score for score in trump_concreteness_scores if score is not None) / len([score for score in trump_concreteness_scores if score is not None])\n",
    "kamala_avg_concreteness = sum(score for score in kamala_concreteness_scores if score is not None) / len([score for score in kamala_concreteness_scores if score is not None])\n",
    "\n",
    "# Calculate the standard deviation of the concreteness scores\n",
    "trump_std_concreteness = sum((score - trump_avg_concreteness) ** 2 for score in trump_concreteness_scores if score is not None) / len([score for score in trump_concreteness_scores if score is not None])\n",
    "kamala_std_concreteness = sum((score - kamala_avg_concreteness) ** 2 for score in kamala_concreteness_scores if score is not None) / len([score for score in kamala_concreteness_scores if score is not None])\n",
    "\n",
    "print('Average concreteness score of words in Trump responses:', trump_avg_concreteness)\n",
    "print('Average concreteness score of words in Kamala responses:', kamala_avg_concreteness)\n",
    "print('Standard deviation of concreteness scores in Trump responses:', trump_std_concreteness)\n",
    "print('Standard deviation of concreteness scores in Kamala responses:', kamala_std_concreteness)"
   ]
  },
  {
   "cell_type": "markdown",
   "metadata": {},
   "source": [
    "#### Visualise results"
   ]
  },
  {
   "cell_type": "code",
   "execution_count": 28,
   "metadata": {},
   "outputs": [
    {
     "data": {
      "image/png": "[encoded data removed]",
      "text/plain": [
       "<Figure size 800x600 with 1 Axes>"
      ]
     },
     "metadata": {},
     "output_type": "display_data"
    }
   ],
   "source": [
    "# Now, we want to look at the distribution of concreteness scores in the responses of Trump and Kamala\n",
    "# We will use histograms to visualize the distribution\n",
    "# We will remove None values from the concreteness scores before plotting the histograms\n",
    "# We plot both simultaneously for comparison\n",
    "\n",
    "# Remove None values from the concreteness scores\n",
    "trump_conc_scores = [score for score in trump_concreteness_scores if score is not None]\n",
    "kamala_conc_scores = [score for score in kamala_concreteness_scores if score is not None]\n",
    "\n",
    "# Plot the histograms with bins next to each other\n",
    "plt.figure(figsize=(8, 6))\n",
    "plt.hist(trump_conc_scores, bins=30, alpha=0.5, label='Trump', color='red')\n",
    "plt.hist(kamala_conc_scores, bins=30, alpha=0.5, label='Harris', color='blue')\n",
    "plt.xlabel('Concreteness Score')\n",
    "plt.ylabel('Frequency')\n",
    "plt.title('Distribution of Concreteness Scores in Responses')\n",
    "plt.legend()\n",
    "# Save the plot as a PNG file with a resolution of 300 dpi\n",
    "#plt.savefig('../figures/concreteness_scores.png', dpi=300)\n",
    "plt.show()\n",
    "\n"
   ]
  },
  {
   "cell_type": "markdown",
   "metadata": {},
   "source": [
    "#### Qualitative Analysis"
   ]
  },
  {
   "cell_type": "code",
   "execution_count": 29,
   "metadata": {},
   "outputs": [
    {
     "name": "stdout",
     "output_type": "stream",
     "text": [
      "Most Concrete Words in Trump Responses:\n",
      "people: 76\n",
      "person: 8\n",
      "student: 7\n",
      "pipeline: 7\n",
      "plant: 4\n",
      "-----------------\n",
      "Most Abstract Words in Trump Responses:\n",
      "go: 110\n",
      "get: 80\n",
      "country: 68\n",
      "would: 42\n",
      "know: 40\n",
      "-----------------\n",
      "Most Concrete Words in Kamala Responses:\n",
      "people: 49\n",
      "bill: 6\n",
      "person: 3\n",
      "senator: 3\n",
      "kid: 2\n",
      "-----------------\n",
      "Most Abstract Words in Kamala Responses:\n",
      "Trump: 38\n",
      "know: 33\n",
      "would: 32\n",
      "Donald: 32\n",
      "go: 29\n"
     ]
    }
   ],
   "source": [
    "# What are the most concrete and abstract words used by Trump and Kamala in their responses?\n",
    "trump_concrete_words = [word for response in trump_responses_cleaned for word in response.split() if concreteness_scores.get(word, 0) >= 4.5]\n",
    "trump_abstract_words = [word for response in trump_responses_cleaned for word in response.split() if concreteness_scores.get(word, 0) <= 2.5]\n",
    "\n",
    "kamala_concrete_words = [word for response in kamala_responses_cleaned for word in response.split() if concreteness_scores.get(word, 0) >= 4.5]\n",
    "kamala_abstract_words = [word for response in kamala_responses_cleaned for word in response.split() if concreteness_scores.get(word, 0) <= 2.5]\n",
    "\n",
    "trump_concrete_freq = Counter(trump_concrete_words)\n",
    "trump_abstract_freq = Counter(trump_abstract_words)\n",
    "\n",
    "kamala_concrete_freq = Counter(kamala_concrete_words)\n",
    "kamala_abstract_freq = Counter(kamala_abstract_words)\n",
    "\n",
    "trump_most_concrete = trump_concrete_freq.most_common(5)\n",
    "trump_most_abstract = trump_abstract_freq.most_common(5)\n",
    "\n",
    "kamala_most_concrete = kamala_concrete_freq.most_common(5)\n",
    "kamala_most_abstract = kamala_abstract_freq.most_common(5)\n",
    "\n",
    "print('Most Concrete Words in Trump Responses:')\n",
    "for word, freq in trump_most_concrete:\n",
    "    print(f'{word}: {freq}')\n",
    "\n",
    "print('-----------------')\n",
    "\n",
    "print('Most Abstract Words in Trump Responses:')\n",
    "for word, freq in trump_most_abstract:\n",
    "    print(f'{word}: {freq}')\n",
    "\n",
    "print('-----------------')\n",
    "\n",
    "print('Most Concrete Words in Kamala Responses:')\n",
    "for word, freq in kamala_most_concrete:\n",
    "    print(f'{word}: {freq}')\n",
    "\n",
    "print('-----------------')\n",
    "\n",
    "print('Most Abstract Words in Kamala Responses:')\n",
    "for word, freq in kamala_most_abstract:\n",
    "    print(f'{word}: {freq}')\n",
    "\n"
   ]
  },
  {
   "cell_type": "markdown",
   "metadata": {},
   "source": [
    "#### Statistical testing"
   ]
  },
  {
   "cell_type": "code",
   "execution_count": 30,
   "metadata": {},
   "outputs": [
    {
     "name": "stdout",
     "output_type": "stream",
     "text": [
      "Shapiro-Wilk test for normality of Trump concreteness scores: ShapiroResult(statistic=0.8262214572244911, pvalue=2.1323194201654096e-49)\n",
      "Shapiro-Wilk test for normality of Kamala concreteness scores: ShapiroResult(statistic=0.8615340522125727, pvalue=2.5485910958627036e-41)\n",
      "D'Agostino and Pearson's test for normality of Trump concreteness scores: NormaltestResult(statistic=328.61244925859535, pvalue=4.3925154844441e-72)\n",
      "Mann-Whitney U test for Trump and Kamala concreteness scores: 0.0015129743503336215\n"
     ]
    }
   ],
   "source": [
    "# Use statistical tests to check whether the distributions of concreteness scores in the responses of Trump and Kamala are significantly different\n",
    "# First, we need to test normality of the distributions\n",
    "\n",
    "# Perform the Shapiro-Wilk test for normality\n",
    "trump_shapiro = shapiro(trump_conc_scores)\n",
    "kamala_shapiro = shapiro(kamala_conc_scores)\n",
    "\n",
    "# Perform the D'Agostino and Pearson's test for normality\n",
    "trump_normaltest = normaltest(trump_conc_scores)\n",
    "kamala_normaltest = normaltest(kamala_conc_scores)\n",
    "\n",
    "print('Shapiro-Wilk test for normality of Trump concreteness scores:', trump_shapiro)\n",
    "print('Shapiro-Wilk test for normality of Kamala concreteness scores:', kamala_shapiro)\n",
    "print('D\\'Agostino and Pearson\\'s test for normality of Trump concreteness scores:', trump_normaltest)\n",
    "\n",
    "# p-value for both is less than 0.05, so we reject the null hypothesis that the data is normally distributed\n",
    "# We will use the Mann-Whitney U test to compare the distributions of concreteness scores in the responses of Trump and Kamala\n",
    "from scipy.stats import mannwhitneyu\n",
    "\n",
    "# Perform the Mann-Whitney U test\n",
    "stat, p_value = mannwhitneyu(trump_conc_scores, kamala_conc_scores)\n",
    "\n",
    "print('Mann-Whitney U test for Trump and Kamala concreteness scores:', p_value)\n",
    "\n",
    "# The Shapiro-Wilk test and D'Agostino and Pearson's test are both significant, indicating that the data is normally distributed\n",
    "# The Mann-Whitney U test is also significant, indicating that the distributions of concreteness scores in the responses of Trump and Kamala are significantly different\n",
    "# This means that Trump and Kamala use words with different concreteness scores in their responses"
   ]
  },
  {
   "cell_type": "markdown",
   "metadata": {},
   "source": [
    "## Direct References (pronouns)"
   ]
  },
  {
   "cell_type": "markdown",
   "metadata": {},
   "source": [
    "## Checking response directed to opponent\n",
    "Load data"
   ]
  },
  {
   "cell_type": "code",
   "execution_count": 31,
   "metadata": {},
   "outputs": [],
   "source": [
    "import re\n",
    "# load the abcnews_transcript file from the data folder\n",
    "with open('../data/abcnews_transcript.txt', 'r') as file:\n",
    "    data = file.read()\n",
    "\n",
    "\n",
    "trumps_responses = []\n",
    "kamalas_responses = []\n",
    "\n",
    "trump_identifier = \"FORMER PRESIDENT DONALD TRUMP: \"\n",
    "kamala_identifier = \"VICE PRESIDENT KAMALA HARRIS: \"\n",
    "\n",
    "for line in data.split('\\n'):\n",
    "    if line.startswith(trump_identifier):\n",
    "        trumps_responses.append(line[len(trump_identifier):])\n",
    "    elif line.startswith(kamala_identifier):\n",
    "        kamalas_responses.append(line[len(kamala_identifier):])"
   ]
  },
  {
   "cell_type": "markdown",
   "metadata": {},
   "source": [
    "\n",
    "### Trump towards direct Harris"
   ]
  },
  {
   "cell_type": "code",
   "execution_count": 32,
   "metadata": {},
   "outputs": [],
   "source": [
    "# Turn the list of sentences in rtumps_responses into a dictionary \n",
    "# where the key is the number of the response and the value is the\n",
    "# sentences in the response. Sentences are identified by ending with\n",
    "# a . or a ? or a !.\n",
    "\n",
    "trumps_responses_dict = {}\n",
    "for i, response in enumerate(trumps_responses):\n",
    "    trumps_responses_dict[i] = re.split(r'(?<=[.!?])\\s', response)\n",
    "\n",
    "harris_responses_dict = {}\n",
    "for i, response in enumerate(kamalas_responses):\n",
    "    harris_responses_dict[i] = re.split(r'(?<=[.!?])\\s', response)\n",
    "\n",
    "all_trumps_sentences = [ sentence for response in trumps_responses_dict.values() for sentence in response ]\n",
    "all_harris_sentences = [ sentence for response in harris_responses_dict.values() for sentence in response ]"
   ]
  },
  {
   "cell_type": "code",
   "execution_count": 33,
   "metadata": {},
   "outputs": [],
   "source": [
    "\n",
    "def count_sentences_with_words_per_response(response_dict, words):\n",
    "    count_dict = {}\n",
    "    for i, response in response_dict.items():\n",
    "        count = 0\n",
    "        for sentence in response:\n",
    "            for word in words:\n",
    "                if word in sentence:\n",
    "                    count += 1\n",
    "        count_dict[i] = count\n",
    "    return count_dict\n"
   ]
  },
  {
   "cell_type": "code",
   "execution_count": 34,
   "metadata": {},
   "outputs": [
    {
     "name": "stdout",
     "output_type": "stream",
     "text": [
      "Trump referred to Kamala or Harris 0 times.\n",
      "Harris referred to Trump or Donald 70 times.\n",
      "Trump referred to Biden or Joe 15 times.\n"
     ]
    }
   ],
   "source": [
    "# Use the function to count the number of sentences in Trump's responses that contain the words \"Kamala\" or \"Harris\"\n",
    "# and the number of sentences in Harris's responses that contain the words \"Trump\" or \"Donald\".\n",
    "\n",
    "trump_reference_kamala = count_sentences_with_words_per_response(trumps_responses_dict, [\"Kamala\", \"Harris\"])\n",
    "harris_reference_trump = count_sentences_with_words_per_response(harris_responses_dict, [\"Trump\", \"Donald\"])\n",
    "trump_reference_biden = count_sentences_with_words_per_response(trumps_responses_dict, [\"Biden\", \"Joe\"])\n",
    "\n",
    "# Sum up all the counts for Trump and Harris\n",
    "total_trump_references = sum(trump_reference_kamala.values())\n",
    "total_harris_references = sum(harris_reference_trump.values())\n",
    "\n",
    "# Print the results\n",
    "print(f\"Trump referred to Kamala or Harris {total_trump_references} times.\")\n",
    "print(f\"Harris referred to Trump or Donald {total_harris_references} times.\")\n",
    "print(f\"Trump referred to Biden or Joe {sum(trump_reference_biden.values())} times.\")"
   ]
  },
  {
   "cell_type": "code",
   "execution_count": 35,
   "metadata": {},
   "outputs": [
    {
     "name": "stdout",
     "output_type": "stream",
     "text": [
      "Response 2:\n",
      "  My opponent has a plan that I call the Trump sales tax, which would be a 20% tax on everyday goods that you rely on to get through the month.\n",
      "  Economists have said that Trump's sales tax would actually result for middle-class families in about $4,000 more a year because of his policies and his ideas about what should be the backs of middle-class people paying for tax cuts for billionaires.\n",
      "Response 3:\n",
      "  Let's talk about what Donald Trump left us.\n",
      "  Donald Trump left us the worst unemployment since the Great Depression.\n",
      "  Donald Trump left us the worst public health epidemic in a century.\n",
      "  Donald Trump left us the worst attack on our democracy since the Civil War.\n",
      "  And what we have done is clean up Donald Trump's mess.\n",
      "Response 4:\n",
      "  So, Donald Trump has no plan for you.\n",
      "  What Goldman Sachs has said is that Donald Trump's plan would make the economy worse.\n",
      "  What the Wharton School has said is Donald Trump's plan would actually explode the deficit.\n",
      "  And I'd invite you to know that Donald Trump actually has no plan for you, because he is more interested in defending himself than he is in looking out for you.\n",
      "Response 5:\n",
      "  Well, let's be clear that the Trump administration resulted in a trade deficit, one of the highest we've ever seen in the history of America.\n",
      "  He invited trade wars, you wanna talk about his deal with China what he ended up doing is under Donald Trump's presidency he ended up selling American chips to China to help them improve and modernize their military basically sold us out when a policy about China should be in making sure the United States of America wins the competition for the 21st century.\n",
      "  But what Donald Trump did let's talk about this with COVID, is he actually thanked President XI for what he did during COVID.\n",
      "Response 6:\n",
      "  Donald Trump hand-selected three members of the United States Supreme Court with the intention that they would undo the protections of Roe v.\n",
      "  And now in over 20 states there are Trump abortion bans which make it criminal for a doctor or nurse to provide health care.\n",
      "  Trump abortion bans that make no exception even for rape and incest.\n",
      "  And one does not have to abandon their faith or deeply held beliefs to agree the government, and Donald Trump certainly, should not be telling a woman what to do with her body.\n",
      "Response 7:\n",
      "  But understand, if Donald Trump were to be re-elected, he will sign a national abortion ban.\n",
      "Response 8:\n",
      "  And understand what has been happening under Donald Trump's abortion bans.\n",
      "Response 13:\n",
      "  Donald Trump got on the phone, called up some folks in Congress, and said kill the bill.\n",
      "  And I'm going to actually do something really unusual and I'm going to invite you to attend one of Donald Trump's rallies because it's a really interesting thing to watch.\n",
      "Response 14:\n",
      "  His former secretary of defense has said the nation, the republic would never survive another Trump term.\n",
      "Response 16:\n",
      "  Understand what it would mean if Donald Trump were back in the white house with no guardrails.\n",
      "Response 20:\n",
      "  Donald Trump the candidate has said in this election there will be a bloodbath, if this -- and the outcome of this election is not to his liking.\n",
      "Response 21:\n",
      "  Donald Trump was fired by 81 million people.\n",
      "  And world leaders are laughing at Donald Trump.\n",
      "Response 23:\n",
      "  He's trying to again divide and distract from the reality, which is it is very well known that Donald Trump is weak and wrong on national security and foreign policy.\n",
      "Response 24:\n",
      "  I believe the reason that Donald Trump says that this war would be over within 24 hours is because he would just give it up.\n",
      "  If Donald Trump were president, Putin would be sitting in Kyiv right now.\n",
      "Response 27:\n",
      "  Donald Trump when he was president negotiated one of the weakest deals you can imagine.\n",
      "Response 29:\n",
      "  And let's remember how Donald Trump started.\n",
      "Response 30:\n",
      "  Clearly, I am not Joe Biden, and I am certainly not Donald Trump.\n",
      "Response 31:\n",
      "  When Donald Trump was president, 60 times he tried to get rid of the Affordable Care Act.\n",
      "  Donald Trump said he was going to allow Medicare to negotiate dr, drug prices.\n",
      "  And the plan has to be to strengthen the Affordable Care Act, not get rid of it, (in audible) in terms of where Donald Trump stands on that.\n",
      "Response 32:\n",
      "  Donald Trump said he was going to create manufacturing jobs.\n",
      "  It includes growing what we can do around American manufacturing and opening up auto plants, not closing them like what happened under Donald Trump.\n"
     ]
    }
   ],
   "source": [
    "# Print all sentences where Trump referred to Kamala or Harris using the dictionary\n",
    "\n",
    "for response, count in trump_reference_kamala.items():\n",
    "    if count > 0:\n",
    "        print(f\"Response {response}:\")\n",
    "        for sentence in trumps_responses_dict[response]:\n",
    "            if \"Kamala\" in sentence or \"Harris\" in sentence:\n",
    "                print(f\"  {sentence}\")\n",
    "\n",
    "# Print all sentences where Harris referred to Trump or Donald using the dictionary\n",
    "for response, count in harris_reference_trump.items():\n",
    "    if count > 0:\n",
    "        print(f\"Response {response}:\")\n",
    "        for sentence in harris_responses_dict[response]:\n",
    "            if \"Trump\" in sentence or \"Donald\" in sentence:\n",
    "                print(f\"  {sentence}\")"
   ]
  },
  {
   "cell_type": "code",
   "execution_count": 36,
   "metadata": {},
   "outputs": [
    {
     "name": "stdout",
     "output_type": "stream",
     "text": [
      "Trump referred to Kamala or Harris in 0 responses, which is 0.00% of his responses.\n",
      "Harris referred to Trump or Donald in 19 responses, which is 55.88% of her responses.\n"
     ]
    }
   ],
   "source": [
    "# Print the number of responses where Trump referred to Kamala or Harris and the percentage of that\n",
    "# out of all of his responses\n",
    "# First count the number of responses where Trump referred to Kamala or Harris\n",
    "responses_with_references = len([ count for count in trump_reference_kamala.values() if count > 0 ])\n",
    "percentage = responses_with_references / len(trumps_responses_dict) * 100\n",
    "print(f\"Trump referred to Kamala or Harris in {responses_with_references} responses, which is {percentage:.2f}% of his responses.\")\n",
    "\n",
    "# for harris\n",
    "responses_with_references = len([ count for count in harris_reference_trump.values() if count > 0 ])\n",
    "percentage = responses_with_references / len(harris_responses_dict) * 100\n",
    "print(f\"Harris referred to Trump or Donald in {responses_with_references} responses, which is {percentage:.2f}% of her responses.\")\n"
   ]
  },
  {
   "cell_type": "code",
   "execution_count": 37,
   "metadata": {},
   "outputs": [
    {
     "name": "stdout",
     "output_type": "stream",
     "text": [
      "34\n",
      "74\n"
     ]
    }
   ],
   "source": [
    "print(len(harris_responses_dict))\n",
    "print(len(trumps_responses_dict))"
   ]
  },
  {
   "cell_type": "code",
   "execution_count": 38,
   "metadata": {},
   "outputs": [],
   "source": [
    "trump_reference_indirect_kamala = count_sentences_with_words_per_response(trumps_responses_dict, [\" she\", \" her \", \"her's\"])\n",
    "harris_reference_indirect_trump = count_sentences_with_words_per_response(harris_responses_dict, [\" he's\", \" he \", \" his \", \" him \", \" his's\"])"
   ]
  },
  {
   "cell_type": "code",
   "execution_count": 39,
   "metadata": {},
   "outputs": [
    {
     "name": "stdout",
     "output_type": "stream",
     "text": [
      "(1) - Response 2:\n",
      "  These are the people that she and Biden let into our country.\n",
      "(1) - Response 3:\n",
      "  Number one, I have nothing to do, as you know and as she knows better than anyone, I have nothing to do with Project 2025.\n",
      "(3) - Response 4:\n",
      "  They gave her that to say.\n",
      "  And just to finish off, she doesn't have a plan.\n",
      "  Take a look at her plan.\n",
      "(1) - Response 5:\n",
      "  I charge, I was the only president ever China was paying us hundreds of billions of dollars and so were other countries and you know if she doesn't like 'em they should have gone out and they should have immediately cut the tariffs but those tariffs are there three and a half years now under their administration.\n",
      "(10) - Response 6:\n",
      "  I don't say her because she has no policy.\n",
      "  Everything that she believed three years ago and four years ago is out the window.\n",
      "  In fact, I was going to send her a MAGA hat.\n",
      "  But if she ever got elected, she'd change it.\n",
      "  Everybody knows she's a Marxist.\n",
      "  Her father's a Marxist professor in economics.\n",
      "  And he taught her well.\n",
      "  But when you look at what she's done to our country and when you look at these millions and millions of people that are pouring into our country monthly where it's I believe 21 million people, not the 15 that people say, and I think it's a lot higher than the 21.\n",
      "  They have and she has destroyed our country with policy that's insane.\n",
      "(2) - Response 8:\n",
      "  And her vice presidential pick, which I think was a horrible pick, by the way for our country, because he is really out of it.\n",
      "  But her vice presidential pick says abortion in the ninth month is absolutely fine.\n",
      "(2) - Response 10:\n",
      "  Well, there she goes again.\n",
      "  What she says is an absolute lie.\n",
      "(3) - Response 11:\n",
      "  Number one, she said she'll go back to congress.\n",
      "  It's impossible for her to get the vote.\n",
      "  The student loans -- and then her I think probably her boss, if you call him a boss, he spends all his time on the beach, but look, her boss went out and said we'll do it again, we'll do it a different way.\n",
      "(2) - Response 12:\n",
      "  Look, we don't have to discuss it because she'd never be able to get it just like she couldn't get student loans.\n",
      "  So it doesn't matter what she says about going to congress.\n",
      "(1) - Response 13:\n",
      "  And the other thing, they -- you should ask, will she allow abortion in the eighth month, ninth month, seventh month?\n",
      "(1) - Response 14:\n",
      "  Why don't you ask her that question --\n",
      "(4) - Response 19:\n",
      "  People don't go to her rallies.\n",
      "  And the people that do go, she's busing them in and paying them to be there.\n",
      "  So, she can't talk about that.\n",
      "  And if she becomes president, this country doesn't have a chance of success.\n",
      "(1) - Response 26:\n",
      "  Because they've taken their criminals off the street and they've given them to her to put into our country.\n",
      "(1) - Response 30:\n",
      "  Like, she was big on defund the police.\n",
      "(1) - Response 31:\n",
      "  In Minnesota, she went out -- wait a minute.\n",
      "(5) - Response 32:\n",
      "  She went out -- she went out in Minnesota and wanted to let criminals that killed people, that burned down Minneapolis, she went out and raised money to get them out of jail.\n",
      "  Now she wants to do transgender operations on illegal aliens that are in prison.\n",
      "  She wants to confiscate your guns and she will never allow fracking in Pennsylvania.\n",
      "  If she won the election, fracking in Pennsylvania will end on day one.\n",
      "  But if she won the election, the day after that election, they'll go back to destroying our country and oil will be dead, fossil fuel will be dead.\n",
      "(1) - Response 33:\n",
      "  These are not good things for the environment that she understands.\n",
      "(4) - Response 34:\n",
      "  That she allowed to pour in.\n",
      "  She doesn't want to be called the border czar because she's embarrassed by the border.\n",
      "  In fact, she said at the beginning, I'm surprised you're not talking about the border yet.\n",
      "  That's because she knows what a bad job they've done.\n",
      "(1) - Response 36:\n",
      "  You might ask her that question.\n",
      "(3) - Response 37:\n",
      "  It was just two weeks ago, her daughter has a tape of her saying she is fully responsible for what happened.\n",
      "  She didn't do her job.\n",
      "(4) - Response 38:\n",
      "  How come she's not doing -- and I'll tell you what I would do.\n",
      "  I would say we would both leave this debate right now, I'd like to see her go down to Washington, D.C.\n",
      "  Go down to -- because she's been so bad, it's so ridiculous.\n",
      "  And let her sign a bill to close up the border.\n",
      "(1) - Response 46:\n",
      "  But when this weak pathetic man that you saw at a debate just a few months ago that if he weren't in that debate he'd be running instead of her, she got no votes, he got 14 million votes, what you did, you talk about a threat to democracy.\n",
      "(2) - Response 47:\n",
      "  And when she ran, she was the first one to leave because she failed.\n",
      "  And now she's running.\n",
      "(5) - Response 48:\n",
      "  But when she mentions about Israel all of a sudden -- she hates Israel.\n",
      "  She refused to be there because she was at a sorority party of hers.\n",
      "  If she's president, I believe that Israel will not exist within two years from now.\n",
      "  At the same time in her own way she hates the Arab population because the whole place is going to get blown up, Arabs, Jewish people, Israel.\n",
      "(3) - Response 49:\n",
      "  They're the ones -- and she's the one that caused it, that's weak on national security by allowing every nation last month for the year, 168 different countries sending people into our country.\n",
      "  Putin endorsed her last week.\n",
      "  Said I hope she wins.\n",
      "(3) - Response 57:\n",
      "  But just so you understand, they sent her to negotiate peace before this war started.\n",
      "  They sent her in to negotiate with Zelenskyy and Putin.\n",
      "  And she did and the war started three days later.\n",
      "(1) - Response 58:\n",
      "  They sent her in to negotiate.\n",
      "(2) - Response 63:\n",
      "  Because they saw how incompetent she and her boss are.\n",
      "(2) - Response 64:\n",
      "  I don't care what she is.\n",
      "  Whatever she wants to be is okay with me.\n",
      "(2) - Response 65:\n",
      "  All I can say is I read where she was not Black, that she put out.\n",
      "  And then I read that she was black.\n",
      "(3) - Response 66:\n",
      "  And they come up with things like what she just said going back many, many years when a lot of people including Mayor Bloomberg agreed with me on the Central Park Five.\n",
      "  I don't know the gentleman, she says.\n",
      "  A horrible economy because inflation has made it so bad and she can't get away with that.\n",
      "(2) - Response 69:\n",
      "  But she won't improve private insurance for people.\n",
      "  That's another thing she doesn't want\n",
      "(1) - Response 71:\n",
      "  Why did he get -- why did she pay him 3 1/2 million dollars?\n",
      "(4) - Response 73:\n",
      "  So, she just started by saying she's going to do this, she's going to do that, she's going to do all these wonderful things.\n",
      "  Why hasn't she done it?\n",
      "  Why hasn't she done it?\n",
      "  Why didn't she do it?\n"
     ]
    }
   ],
   "source": [
    "# Print all sentences where Trump referred to Kamala or Harris using the dictionary\n",
    "\n",
    "for response, count in trump_reference_indirect_kamala.items():\n",
    "    if count > 0:\n",
    "        print(f\"({count}) - Response {response}:\")\n",
    "        for sentence in trumps_responses_dict[response]:\n",
    "            if \" she\" in sentence or \" her \" in sentence or \"her's\" in sentence:\n",
    "                print(f\"  {sentence}\")\n"
   ]
  },
  {
   "cell_type": "code",
   "execution_count": 40,
   "metadata": {},
   "outputs": [
    {
     "name": "stdout",
     "output_type": "stream",
     "text": [
      "Trump referred to Kamala or Harris indirectly in 34 responses, which is 45.95% of his responses.\n"
     ]
    }
   ],
   "source": [
    "# Print the number of responses where Trump referred to Kamala or Harris indirectly and the percentage of that\n",
    "# out of all of his responses\n",
    "# First count the number of responses where Trump referred to Kamala or Harris\n",
    "\n",
    "responses_with_references = len([ count for count in trump_reference_indirect_kamala.values() if count > 0 ])\n",
    "percentage = responses_with_references / len(trumps_responses_dict) * 100\n",
    "print(f\"Trump referred to Kamala or Harris indirectly in {responses_with_references} responses, which is {percentage:.2f}% of his responses.\")\n",
    "\n"
   ]
  },
  {
   "cell_type": "code",
   "execution_count": 41,
   "metadata": {},
   "outputs": [
    {
     "name": "stdout",
     "output_type": "stream",
     "text": [
      "(3) - Response 2:\n",
      "  My opponent, on the other hand, his plan is to do what he has done before, which is to provide a tax cut for billionaires and big corporations, which will result in $5 trillion to America's deficit.\n",
      "  Economists have said that Trump's sales tax would actually result for middle-class families in about $4,000 more a year because of his policies and his ideas about what should be the backs of middle-class people paying for tax cuts for billionaires.\n",
      "(1) - Response 3:\n",
      "  What you're going to hear tonight is a detailed and dangerous plan called Project 2025 that the former president intends on implementing if he were elected again.\n",
      "(3) - Response 4:\n",
      "  And when you look at his economic plan, it's all about tax breaks for the richest people.\n",
      "  Sixteen Nobel laureates have described his economic plan as something that would increase inflation and by the middle of next year would invite a recession.\n",
      "  And I'd invite you to know that Donald Trump actually has no plan for you, because he is more interested in defending himself than he is in looking out for you.\n",
      "(4) - Response 5:\n",
      "  He invited trade wars, you wanna talk about his deal with China what he ended up doing is under Donald Trump's presidency he ended up selling American chips to China to help them improve and modernize their military basically sold us out when a policy about China should be in making sure the United States of America wins the competition for the 21st century.\n",
      "  But what Donald Trump did let's talk about this with COVID, is he actually thanked President XI for what he did during COVID.\n",
      "  Look at his tweet.\n",
      "(1) - Response 6:\n",
      "  And they did exactly as he intended.\n",
      "(3) - Response 7:\n",
      "  But understand, if Donald Trump were to be re-elected, he will sign a national abortion ban.\n",
      "  Understand in his Project 2025 there would be a national abortion ban.\n",
      "  Understand in his Project 2025 there would be a national abortion -- a monitor that would be monitoring your pregnancies, your miscarriages.\n",
      "(7) - Response 13:\n",
      "  Because he preferred to run on a problem instead of fixing a problem.\n",
      "  And I'll tell you something, he's going to talk about immigration a lot tonight even when it's not the subject that is being raised.\n",
      "  You will see during the course of his rallies he talks about fictional characters like Hannibal Lecter.\n",
      "  And what you will also notice is that people start leaving his rallies early out of exhaustion and boredom.\n",
      "  And I will tell you the one thing you will not hear him talk about is you.\n",
      "  You will not hear him talk about your needs, your dreams, and your, your desires.\n",
      "(3) - Response 14:\n",
      "  And if you want to really know the inside track on who the former president is, if he didn't make it clear already, just ask people who have worked with him.\n",
      "  His former chief of staff, a four-star general, has said he has contempt for the constitution of the United States.\n",
      "  His former national security adviser has said he is dangerous and unfit.\n",
      "(2) - Response 15:\n",
      "  Coming from someone who has been prosecuted for national security crimes, economic crimes, election interference, has been found liable for sexual assault and his next big court appearance is in November at his own criminal sentencing.\n",
      "  The former vice president called for defunding, federal law enforcement, 45,000 agents, get this, on the day after he was arraigned on 34 felony counts.\n",
      "(4) - Response 16:\n",
      "  The United States Supreme Court recently ruled that the former president would essentially be immune from any misconduct if he were to enter the white house again.\n",
      "  Understand, this is someone who has openly said he would terminate, I'm quoting, terminate the constitution of the United States.\n",
      "  That he would weaponize the Department of Justice against his political enemies.\n",
      "(1) - Response 20:\n",
      "  Donald Trump the candidate has said in this election there will be a bloodbath, if this -- and the outcome of this election is not to his liking.\n",
      "(2) - Response 21:\n",
      "  And clearly, he is having a very difficult time processing that.\n",
      "  But we cannot afford to have a president of the United States who attempts as he did in the past to upend the will of the voters in a free and fair election.\n",
      "(4) - Response 23:\n",
      "  It is well known that he admires dictators, wants to be a dictator on day one according to himself.\n",
      "  It is well known that he said of Putin that he can do whatever the hell he wants and go into Ukraine.\n",
      "  It is well known when that he said when Russia went into Ukraine it was brilliant.\n",
      "  It is well known he exchanged love letters with Kim Jong un.\n",
      "(4) - Response 24:\n",
      "  I believe the reason that Donald Trump says that this war would be over within 24 hours is because he would just give it up.\n",
      "  I shared with him American intelligence about how he could defend himself.\n",
      "  Otherwise, Putin would be sitting in Kyiv with his eyes on the rest of Europe.\n",
      "(1) - Response 26:\n",
      "  When I went to meet with President Zelenskyy, I've now met with him over five times.\n",
      "(2) - Response 27:\n",
      "  Donald Trump when he was president negotiated one of the weakest deals you can imagine.\n",
      "  Even his national security adviser said it was a weak, terrible deal.\n",
      "(2) - Response 28:\n",
      "  And this former president as president invited them to Camp David because he does not again appreciate the role and responsibility of the President of the United States to be commander in chief with a level of respect.\n",
      "  And this gets back to the point of how he has consistently disparaged and demeaned members of our military, fallen soldiers, and the work that we must do to uphold the strength and the respect of the United States of America around the world.\n",
      "(2) - Response 29:\n",
      "  I think it's – I mean honestly, I think it's a tragedy that we have someone who wants to be president who has consistently over the course of his career attempted to use race to divide the American people.\n",
      "  He was a, a, a—land, he owned land, he owned buildings, and he was investigated because he refused to rent property to Black families.\n",
      "(3) - Response 31:\n",
      "  When Donald Trump was president, 60 times he tried to get rid of the Affordable Care Act.\n",
      "  When, I will never forget the early morning hours when it was up for a vote in the United States Senate and the late great John McCain, who you have disparaged as being – uh, you don't like him, you said at the time because he got caught, he was an American hero.\n",
      "  Donald Trump said he was going to allow Medicare to negotiate dr, drug prices.\n",
      "(1) - Response 32:\n",
      "  Donald Trump said he was going to create manufacturing jobs.\n"
     ]
    }
   ],
   "source": [
    "# Print all sentences where Kamala referred indirectly to Trump with he, his\n",
    "for response, count in harris_reference_indirect_trump.items():\n",
    "    if count > 0:\n",
    "        print(f\"({count}) - Response {response}:\")\n",
    "        for sentence in harris_responses_dict[response]:\n",
    "            # \" he \", \" his \", \" him \", \" his's\"\n",
    "            if \" he's\" in sentence or \" he \" in sentence or \" his \" in sentence or \" him \" in sentence or \" his's\" in sentence:\n",
    "                print(f\"  {sentence}\")"
   ]
  },
  {
   "cell_type": "markdown",
   "metadata": {},
   "source": [
    "  Reference to Zelenskyy or Putin\n",
    "\n",
    "\n",
    "  ```I shared with him American intelligence about how he could defend himself.```\n",
    "\n",
    "  \n",
    "  ```Otherwise, Putin would be sitting in Kyiv with his eyes on the rest of Europe.```\n",
    "\n",
    "  *Response 26:* ```When I went to meet with President Zelenskyy, I've now met with him over five times.``` "
   ]
  },
  {
   "cell_type": "code",
   "execution_count": 42,
   "metadata": {},
   "outputs": [
    {
     "name": "stdout",
     "output_type": "stream",
     "text": [
      "Harris referred to Trump indirectly in 19 responses, which is 55.88% of her responses.\n"
     ]
    }
   ],
   "source": [
    "# Print out the number of responses where Kamala referred to Trump indirectly and the percentage of that\n",
    "# out of all of her responses\n",
    "# Subtract 3 from the total number of responses because 3 reference someone else\n",
    "responses_with_references = len([ count for count in harris_reference_indirect_trump.values() if count > 0 ]) - 1 # Response 26 is invalid\n",
    "percentage = responses_with_references / len(harris_responses_dict) * 100\n",
    "print(f\"Harris referred to Trump indirectly in {responses_with_references} responses, which is {percentage:.2f}% of her responses.\")\n"
   ]
  },
  {
   "cell_type": "markdown",
   "metadata": {},
   "source": []
  },
  {
   "cell_type": "code",
   "execution_count": 43,
   "metadata": {},
   "outputs": [
    {
     "data": {
      "image/png": "[encoded data removed]",
      "text/plain": [
       "<Figure size 1000x1000 with 4 Axes>"
      ]
     },
     "metadata": {},
     "output_type": "display_data"
    }
   ],
   "source": [
    "import matplotlib.pyplot as plt\n",
    "\n",
    "# Data\n",
    "# Corrected Data with Normalization\n",
    "trump_direct_harris = [0, 74]  # 0 direct mentions, 74 total\n",
    "trump_indirect_harris = [34, 40]  # 34 indirect mentions, 40 remaining from total 74\n",
    "\n",
    "harris_direct_trump = [19, 15]  # 19 direct mentions, remaining from total 34\n",
    "harris_indirect_trump = [19, 15]  # 19 indirect mentions, remaining from total 34\n",
    "\n",
    "# Labels and colors\n",
    "trump_direct_labels = ['\\'Kamala\\', \\'Harris\\'', 'No Mentions']\n",
    "trump_indirect_labels = ['\\' she\\', \\' her\\', \\' her\\'s\\'', 'No Mentions']\n",
    "harris_indirect_labels = ['\\' he\\', \\' his\\', \\' him\\', \\' his\\'s\\'', 'No Mentions']\n",
    "harris_direct_labels = ['\\'Donald\\', \\'Trump\\'', 'No Mentions']\n",
    "colors_trump_direct = ['red', 'lightgray']\n",
    "colors_trump_indirect = ['lightcoral', 'lightgray']\n",
    "colors_harris_direct = ['blue', 'lightgray']\n",
    "colors_harris_indirect = ['lightblue', 'lightgray']\n",
    "\n",
    "# Create the subplots\n",
    "fig, axs = plt.subplots(2, 2, figsize=(10, 10))\n",
    "\n",
    "# Trump Direct mentions (Top Left)\n",
    "axs[0, 0].pie(trump_direct_harris, labels=trump_direct_labels, colors=colors_trump_direct, autopct='%1.1f%%', startangle=90)\n",
    "axs[0, 0].set_title(\"Trump's Direct Mentions of Harris\")\n",
    "\n",
    "# Trump Indirect mentions (Top Right)\n",
    "axs[0, 1].pie(trump_indirect_harris, labels=trump_indirect_labels, colors=colors_trump_indirect, autopct='%1.1f%%', startangle=90)\n",
    "axs[0, 1].set_title(\"Trump's Indirect Mentions of Harris\")\n",
    "\n",
    "# Harris Direct mentions (Bottom Left)\n",
    "axs[1, 0].pie(harris_direct_trump, labels=harris_direct_labels, colors=colors_harris_direct, autopct='%1.1f%%', startangle=90)\n",
    "axs[1, 0].set_title(\"Harris' Direct Mentions of Trump\")\n",
    "\n",
    "# Harris Indirect mentions (Bottom Right)\n",
    "axs[1, 1].pie(harris_indirect_trump, labels=harris_indirect_labels, colors=colors_harris_indirect, autopct='%1.1f%%', startangle=90)\n",
    "axs[1, 1].set_title(\"Harris' Indirect Mentions of Trump\")\n",
    "\n",
    "# Adjust layout\n",
    "# Store the plot with 300 dpi resolution   \n",
    "plt.savefig('../figures/mentions.png', dpi=300)\n",
    "plt.tight_layout()\n",
    "plt.show()\n"
   ]
  },
  {
   "cell_type": "code",
   "execution_count": 44,
   "metadata": {},
   "outputs": [
    {
     "name": "stdout",
     "output_type": "stream",
     "text": [
      "Trump referred to Kamala or Harris in 34 responses, which is 45.95% of his responses.\n",
      "Harris referred to Trump in 22 responses, which is 64.71% of her responses.\n"
     ]
    }
   ],
   "source": [
    "# Call the function but with both sets for direct and indirect mentions of Harris by Trump\n",
    "trump_ref_all_harris = count_sentences_with_words_per_response(trumps_responses_dict, [\"Kamala\", \"Harris\", \" she\", \" her \", \"her's\"])\n",
    "harris_ref_all_trump = count_sentences_with_words_per_response(harris_responses_dict, [\"Trump\", \"Donald\", \" he's\", \" he \", \" his \", \" him \", \" his's\"])\n",
    "\n",
    "# Print the percentage of responses where Trump referred to Kamala or Harris directly or indirectly\n",
    "responses_with_references = len([ count for count in trump_ref_all_harris.values() if count > 0 ])\n",
    "percentage = responses_with_references / len(trumps_responses_dict) * 100\n",
    "print(f\"Trump referred to Kamala or Harris in {responses_with_references} responses, which is {percentage:.2f}% of his responses.\")\n",
    "\n",
    "# Print the percentage of responses where Harris referred to Trump directly or indirectly\n",
    "responses_with_references = len([ count for count in harris_ref_all_trump.values() if count > 0 ])\n",
    "percentage = responses_with_references / len(harris_responses_dict) * 100\n",
    "print(f\"Harris referred to Trump in {responses_with_references} responses, which is {percentage:.2f}% of her responses.\")\n",
    "\n"
   ]
  }
 ],
 "metadata": {
  "kernelspec": {
   "display_name": "debate",
   "language": "python",
   "name": "python3"
  },
  "language_info": {
   "codemirror_mode": {
    "name": "ipython",
    "version": 3
   },
   "file_extension": ".py",
   "mimetype": "text/x-python",
   "name": "python",
   "nbconvert_exporter": "python",
   "pygments_lexer": "ipython3",
   "version": "3.12.5"
  }
 },
 "nbformat": 4,
 "nbformat_minor": 2
}
